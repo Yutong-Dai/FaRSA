{
 "cells": [
  {
   "cell_type": "code",
   "execution_count": 1,
   "id": "painted-swiss",
   "metadata": {
    "execution": {
     "iopub.execute_input": "2021-08-08T20:33:52.318392Z",
     "iopub.status.busy": "2021-08-08T20:33:52.317838Z",
     "iopub.status.idle": "2021-08-08T20:33:53.018281Z",
     "shell.execute_reply": "2021-08-08T20:33:53.017353Z",
     "shell.execute_reply.started": "2021-08-08T20:33:52.318151Z"
    }
   },
   "outputs": [],
   "source": [
    "import numpy as np\n",
    "from scipy.sparse import csr_matrix, coo_matrix"
   ]
  },
  {
   "cell_type": "markdown",
   "id": "imposed-birthday",
   "metadata": {},
   "source": [
    "# LinearRegressionLoss"
   ]
  },
  {
   "cell_type": "code",
   "execution_count": 2,
   "id": "preliminary-synthesis",
   "metadata": {
    "execution": {
     "iopub.execute_input": "2021-08-08T20:33:53.019965Z",
     "iopub.status.busy": "2021-08-08T20:33:53.019641Z",
     "iopub.status.idle": "2021-08-08T20:33:53.029252Z",
     "shell.execute_reply": "2021-08-08T20:33:53.028186Z",
     "shell.execute_reply.started": "2021-08-08T20:33:53.019933Z"
    }
   },
   "outputs": [],
   "source": [
    "class LeastSquares:\n",
    "    def __init__(self, X, y, datasetName=None, scale=1.0):\n",
    "        \"\"\"\n",
    "        docstring\n",
    "        \"\"\"\n",
    "        self.n, self.p = X.shape\n",
    "        self.X, self.y = X, y\n",
    "        self.datasetName = datasetName\n",
    "        self.scale = scale\n",
    "\n",
    "    def __str__(self):\n",
    "        info = \"\"\n",
    "        if self.datasetName is not None:\n",
    "            info += \"Dataset:{:.>48}\\n\".format(self.datasetName)\n",
    "        info += \"Data Size:{:.>38}n={}, p={}\\nLoss Function:{:.>34}LeastSquares\\n\".format('', self.n, self.p, '')\n",
    "        return info\n",
    "\n",
    "    def evaluate_function_value(self, weight):\n",
    "        \"\"\"\n",
    "\n",
    "        \"\"\"\n",
    "        self.matvec = self.X@weight - self.y\n",
    "        f = 0.5 * np.sum(self.matvec * self.matvec) / self.n\n",
    "        return f * self.scale\n",
    "\n",
    "    def gradient(self):\n",
    "        \"\"\"\n",
    "        need to be called after `evaluate_function_value` to get correct `expterm`\n",
    "        \"\"\"\n",
    "        gradient = self.matvec.T @ self.X / self.n\n",
    "        return gradient.T * self.scale\n",
    "\n",
    "    def _prepare_hv_data(self, subgroup_index):\n",
    "        self.X_subset = self.X[:, subgroup_index]\n",
    "\n",
    "    def hessian_vector_product_fast(self, v):\n",
    "        temp = (self.X_subset@v)\n",
    "        hv = (temp.T@self.X_subset).T / self.n\n",
    "        return (hv + 1e-8 * v) * self.scale"
   ]
  },
  {
   "cell_type": "markdown",
   "id": "bound-popularity",
   "metadata": {},
   "source": [
    "# Group L1"
   ]
  },
  {
   "cell_type": "code",
   "execution_count": 3,
   "id": "earlier-letters",
   "metadata": {
    "execution": {
     "iopub.execute_input": "2021-08-08T20:33:53.738499Z",
     "iopub.status.busy": "2021-08-08T20:33:53.738235Z",
     "iopub.status.idle": "2021-08-08T20:33:53.768894Z",
     "shell.execute_reply": "2021-08-08T20:33:53.766878Z",
     "shell.execute_reply.started": "2021-08-08T20:33:53.738472Z"
    }
   },
   "outputs": [],
   "source": [
    "class GL1:\n",
    "    def __init__(self, Lambda, group, scale=1.0):\n",
    "        \"\"\"\n",
    "        !!Warning: need `group` be ordered in a consecutive manner, i.e., \n",
    "        group: array([1., 1., 1., 2., 2., 2., 3., 3., 3., 3.])\n",
    "        Then:\n",
    "        unique_groups: array([1., 2., 3.])\n",
    "        group_frequency: array([3, 3, 4]))\n",
    "        \"\"\"\n",
    "        self.group = group\n",
    "        self.Lambda = Lambda * scale\n",
    "        self.unique_groups, self.group_frequency = np.unique(\n",
    "            self.group, return_counts=True)\n",
    "        self.Lambda_group = self.Lambda * np.sqrt(self.group_frequency)\n",
    "        self.K = len(self.unique_groups)\n",
    "        self.group_size = -1 * np.ones(self.K)\n",
    "        p = group.shape[0]\n",
    "        full_index = np.arange(p)\n",
    "        starts = []\n",
    "        ends = []\n",
    "        data = np.zeros(p)\n",
    "        row_idx = np.zeros(p)\n",
    "        col_idx = np.zeros(p)\n",
    "        for i in range(self.K):\n",
    "            G_i = full_index[np.where(self.group == self.unique_groups[i])]\n",
    "            # record the `start` and `end` indices of the group G_i to avoid fancy indexing innumpy\n",
    "            # in the example above, the start index and end index for G_1 is 0 and 2 respectively\n",
    "            # since python `start:end` will include `start` and exclude `end`, so we will add 1 to the `end`\n",
    "            # so the G_i-th block of X is indexed by X[start:end]\n",
    "            start, end = min(G_i), max(G_i) + 1\n",
    "            starts.append(start)\n",
    "            ends.append(end)\n",
    "            self.group_size[i] = end - start\n",
    "            data[start:end] = self.Lambda_group[i] ** 2\n",
    "            row_idx[start:end] = i\n",
    "            col_idx[start:end] = np.arange(start, end)\n",
    "        # wrap as np.array for jit compile purpose\n",
    "        self.starts = np.array(starts)\n",
    "        self.ends = np.array(ends)\n",
    "        self.mat = csr_matrix((data, (row_idx, col_idx)), shape=(self.K, p))\n",
    "\n",
    "    def __str__(self):\n",
    "        return(\"Group L1\")\n",
    "\n",
    "    def func(self, X):\n",
    "        return np.sum(np.sqrt(self.mat@(X ** 2)))\n",
    "\n",
    "    def grad(self, X, sub_grp_idx):\n",
    "        g = []\n",
    "        for i in sub_grp_idx:\n",
    "            start, end = self.starts[i], self.ends[i]\n",
    "            X_Gi = X[start:end]\n",
    "            X_Gi_norm = np.sqrt(np.sum(X_Gi*X_Gi))\n",
    "            g_Gi = self.Lambda_group[i] * X_Gi / X_Gi_norm\n",
    "            for e in g_Gi:\n",
    "                g.append(e)\n",
    "        return np.array(g)\n",
    "\n",
    "    def proximal(self, x, gradfx, stepsize):\n",
    "        prox = np.zeros_like(x)\n",
    "        gradstep = x - stepsize * gradfx\n",
    "        for i in range(self.K):\n",
    "            start, end = self.starts[i], self.ends[i]\n",
    "            gradstep_Gi = gradstep[start:end]\n",
    "            prox[start:end] = max(0, 1 - (self.Lambda_group[i] * stepsize/np.sqrt(np.sum(gradstep_Gi*gradstep_Gi))\n",
    "                                          )\n",
    "                                  ) * gradstep_Gi\n",
    "        return prox\n",
    "\n",
    "    def _prepare_hv_data(self, X, subgroup_index):\n",
    "        self.hv_data = {}\n",
    "        start = 0\n",
    "        for i in subgroup_index:\n",
    "            start_x, end_x = self.starts[i], self.ends[i]\n",
    "            XG_i = X[start_x:end_x]\n",
    "            XG_i_norm = np.sqrt(np.dot(XG_i.T, XG_i))[0][0]\n",
    "            end = start + end_x - start_x\n",
    "            self.hv_data[i] = {}\n",
    "            self.hv_data[i]['XG_i'] = XG_i\n",
    "            self.hv_data[i]['XG_i_norm'] = XG_i_norm\n",
    "            self.hv_data[i]['start'] = start\n",
    "            self.hv_data[i]['end'] = end\n",
    "            self.hv_data[i]['XG_i_norm_cubic'] = XG_i_norm**3\n",
    "            start = end\n",
    "\n",
    "    def hessian_vector_product_fast(self, v, subgroup_index):\n",
    "        hv = np.empty_like(v)\n",
    "        for i in subgroup_index:\n",
    "            start = self.hv_data[i]['start']\n",
    "            end = self.hv_data[i]['end']\n",
    "            vi = v[start:end]\n",
    "            temp = np.matmul(self.hv_data[i]['XG_i'].T, vi)\n",
    "            hv[start:end] = self.Lambda_group[i] * (1 / self.hv_data[i]['XG_i_norm'] * vi -\n",
    "                                                    (temp / self.hv_data[i]['XG_i_norm_cubic']) *\n",
    "                                                    self.hv_data[i]['XG_i'])\n",
    "        return hv"
   ]
  },
  {
   "cell_type": "markdown",
   "id": "north-kuwait",
   "metadata": {
    "execution": {
     "iopub.execute_input": "2021-08-06T20:03:31.623896Z",
     "iopub.status.busy": "2021-08-06T20:03:31.621747Z",
     "iopub.status.idle": "2021-08-06T20:03:31.647531Z",
     "shell.execute_reply": "2021-08-06T20:03:31.645125Z",
     "shell.execute_reply.started": "2021-08-06T20:03:31.623803Z"
    }
   },
   "source": [
    "## create linear regression data"
   ]
  },
  {
   "cell_type": "code",
   "execution_count": 4,
   "id": "smooth-latter",
   "metadata": {
    "execution": {
     "iopub.execute_input": "2021-08-08T20:33:55.161073Z",
     "iopub.status.busy": "2021-08-08T20:33:55.160837Z",
     "iopub.status.idle": "2021-08-08T20:33:55.171802Z",
     "shell.execute_reply": "2021-08-08T20:33:55.170664Z",
     "shell.execute_reply.started": "2021-08-08T20:33:55.161048Z"
    }
   },
   "outputs": [],
   "source": [
    "np.random.seed(417)\n",
    "m, n = 10, 6\n",
    "A = np.random.randn(m, n)\n",
    "b = np.random.rand(m, 1)\n",
    "for i in range(m):\n",
    "    A[i, i % n:i % n+5] = 0\n",
    "Asparse = coo_matrix(A)\n",
    "with open(\"lsMatrix.txt\", 'w') as f:\n",
    "    f.write(f\"{m} {n} {Asparse.nnz}\\n\")\n",
    "    for idx in range(len(Asparse.row)):\n",
    "        i = Asparse.row[idx]\n",
    "        j = Asparse.col[idx]\n",
    "        f.write(f\"{i} {j} {A[i,j]:+3.9e}\\n\")\n",
    "with open(\"lsLabel.txt\", 'w') as f:\n",
    "    f.write(f\"{m}\\n\")\n",
    "    for idx in range(len(b)):\n",
    "        f.write(f\"{b[idx,0]:+3.9e}\\n\")"
   ]
  },
  {
   "cell_type": "markdown",
   "id": "sticky-number",
   "metadata": {},
   "source": [
    "# unscaled version"
   ]
  },
  {
   "cell_type": "code",
   "execution_count": 5,
   "id": "seventh-channel",
   "metadata": {
    "execution": {
     "iopub.execute_input": "2021-08-08T20:33:56.132343Z",
     "iopub.status.busy": "2021-08-08T20:33:56.132074Z",
     "iopub.status.idle": "2021-08-08T20:33:56.148446Z",
     "shell.execute_reply": "2021-08-08T20:33:56.147085Z",
     "shell.execute_reply.started": "2021-08-08T20:33:56.132309Z"
    }
   },
   "outputs": [
    {
     "name": "stdout",
     "output_type": "stream",
     "text": [
      "ffun: 1.396288349045707\n",
      "fgrad: [[ 0.4883544  -0.65816869  1.10094573  0.11615631  0.39778551  0.16850084]]\n",
      "fHv: [[0.47853925 0.05719982 0.24964918 0.13204143]]\n"
     ]
    }
   ],
   "source": [
    "# unscaled version\n",
    "f = LeastSquares(A, b, scale=1.0)\n",
    "x = np.array([0.0, 0.0, 1.1, 0.0, 2.2, 3.3]).reshape(-1, 1)\n",
    "cols = [2, 3, 4, 5]\n",
    "v = np.array([i*1.1 for i in range(len(cols))]).reshape(-1,1)\n",
    "\n",
    "# test for f\n",
    "ffun = f.evaluate_function_value(x)\n",
    "fgrad = f.gradient()\n",
    "f._prepare_hv_data(cols)\n",
    "fHv = f.hessian_vector_product_fast(v)\n",
    "print('ffun:', ffun)\n",
    "print('fgrad:',fgrad.T)\n",
    "print('fHv:',fHv.T)\n",
    "\n",
    "with open(\"ffun.txt\", 'w') as file:\n",
    "    file.write(f\"{1}\\n\")\n",
    "    file.write(f\"{ffun:+3.9e}\\n\")\n",
    "with open(\"fgrad.txt\", 'w') as file:\n",
    "    file.write(f\"{fgrad.shape[0]}\\n\")\n",
    "    for idx in range(len(fgrad)):\n",
    "        file.write(f\"{fgrad[idx,0]:+3.9e}\\n\")\n",
    "with open(\"fHv.txt\", 'w') as file:\n",
    "    file.write(f\"{fHv.shape[0]}\\n\")\n",
    "    for idx in range(len(fHv)):\n",
    "        file.write(f\"{fHv[idx,0]:+3.9e}\\n\")        "
   ]
  },
  {
   "cell_type": "code",
   "execution_count": 23,
   "id": "animated-touch",
   "metadata": {
    "execution": {
     "iopub.execute_input": "2021-08-08T20:52:51.017221Z",
     "iopub.status.busy": "2021-08-08T20:52:51.016969Z",
     "iopub.status.idle": "2021-08-08T20:52:51.045676Z",
     "shell.execute_reply": "2021-08-08T20:52:51.039761Z",
     "shell.execute_reply.started": "2021-08-08T20:52:51.017195Z"
    }
   },
   "outputs": [
    {
     "name": "stdout",
     "output_type": "stream",
     "text": [
      "rfun: 9.299146467418636\n",
      "rgrad: [[0.9527539  0.         1.90550781 1.23      ]]\n",
      "rgrad: [[0.9527539  0.         1.90550781 1.23      ]]\n",
      "rprox1: [[-0.         -0.          0.67121747 -0.01560971  1.35804466  2.374     ]]\n",
      "rprox2: [[-0.154      -0.154       0.34334895 -0.28612413  0.97282203  1.994     ]]\n",
      "rHv: [[-0.76220312  0.9527539   0.38110156  0.        ]]\n",
      "trueProx: [[-0.          0.          0.71652698 -0.01891978  1.72691045  3.02029983]]\n"
     ]
    }
   ],
   "source": [
    "\n",
    "r = GL1(1.23, np.array([0, 0, 1, 1, 1, 2]), scale=1.0)\n",
    "rfun = r.func(x)\n",
    "rgrad = r.grad(x, [1, 2])\n",
    "rprox1 = r.proximal(x, x + 0.1, 0.2)\n",
    "rprox2 = r.proximal(x, x + 2.0, 0.2)\n",
    "r._prepare_hv_data(x, [1, 2])\n",
    "rHv = r.hessian_vector_product_fast(v, [1, 2])\n",
    "trueProx = r.proximal(x, fgrad, 0.2)\n",
    "print('rfun:', rfun)\n",
    "print('rgrad:',rgrad.T)\n",
    "print('rgrad:',rgrad.T)\n",
    "print('rprox1:',rprox1.T)\n",
    "print('rprox2:',rprox2.T)\n",
    "print('rHv:',rHv.T)\n",
    "print('trueProx:',trueProx.T)\n",
    "\n",
    "\n",
    "with open(\"rfun.txt\", 'w') as file:\n",
    "    file.write(f\"{1}\\n\")\n",
    "    file.write(f\"{rfun:+3.9e}\\n\")\n",
    "with open(\"rgrad.txt\", 'w') as file:\n",
    "    file.write(f\"{rgrad.shape[0]}\\n\")\n",
    "    for idx in range(len(rgrad)):\n",
    "        file.write(f\"{rgrad[idx,0]:+3.9e}\\n\")\n",
    "with open(\"rprox1.txt\", 'w') as file:\n",
    "    file.write(f\"{rprox1.shape[0]}\\n\")\n",
    "    for idx in range(len(rprox1)):\n",
    "        file.write(f\"{rprox1[idx,0]:+3.9e}\\n\")\n",
    "with open(\"rprox2.txt\", 'w') as file:\n",
    "    file.write(f\"{rprox2.shape[0]}\\n\")\n",
    "    for idx in range(len(rprox2)):\n",
    "        file.write(f\"{rprox2[idx,0]:+3.9e}\\n\")\n",
    "with open(\"rHv.txt\", 'w') as file:\n",
    "    file.write(f\"{rHv.shape[0]}\\n\")\n",
    "    for idx in range(len(rHv)):\n",
    "        file.write(f\"{rHv[idx,0]:+3.9e}\\n\")\n",
    "with open(\"trueProx.txt\", 'w') as file:\n",
    "    file.write(f\"{trueProx.shape[0]}\\n\")\n",
    "    for idx in range(len(trueProx)):\n",
    "        file.write(f\"{trueProx[idx,0]:+3.9e}\\n\")"
   ]
  },
  {
   "cell_type": "code",
   "execution_count": 25,
   "id": "diverse-richmond",
   "metadata": {
    "execution": {
     "iopub.execute_input": "2021-08-08T20:57:57.441555Z",
     "iopub.status.busy": "2021-08-08T20:57:57.441289Z",
     "iopub.status.idle": "2021-08-08T20:57:57.454061Z",
     "shell.execute_reply": "2021-08-08T20:57:57.452915Z",
     "shell.execute_reply.started": "2021-08-08T20:57:57.441522Z"
    }
   },
   "outputs": [
    {
     "name": "stdout",
     "output_type": "stream",
     "text": [
      "stepsize:1.0 | x_trail:[[ 0.          0.          0.71652698 -0.01891978  1.72691045  3.02029983]] | bak:0 \n"
     ]
    }
   ],
   "source": [
    "stepsize_ls = 1.0\n",
    "stepsize_prox = 0.2\n",
    "bak = 0\n",
    "d = trueProx - x\n",
    "directional_derivative = - np.dot(d.T,d) / stepsize_prox\n",
    "Fx = f.evaluate_function_value(x) + r.func(x)\n",
    "while True:\n",
    "    x_trail = x + stepsize_ls * d\n",
    "    Ftrial = f.evaluate_function_value(x_trail) + r.func(x_trail)\n",
    "    lhs = Ftrial - Fx\n",
    "    rhs = 1e-10 * stepsize_ls * directional_derivative\n",
    "    sufficient_decrease = lhs <= rhs\n",
    "    if sufficient_decrease:\n",
    "        print(f\"stepsize:{stepsize_ls} | x_trail:{x_trail.T} | bak:{bak} \")\n",
    "        break\n",
    "    if bak > 100:\n",
    "        break\n",
    "    bak += 1\n",
    "    stepsize_ls *= 0.5\n",
    "with open(\"backtrack_trial_iterates.txt\", 'w') as file:\n",
    "    file.write(f\"{x_trail.shape[0]}\\n\")\n",
    "    for idx in range(len(x_trail)):\n",
    "        file.write(f\"{x_trail[idx,0]:+3.9e}\\n\")    "
   ]
  },
  {
   "cell_type": "markdown",
   "id": "adapted-terry",
   "metadata": {},
   "source": [
    "# scaled version"
   ]
  },
  {
   "cell_type": "code",
   "execution_count": 8,
   "id": "inner-illness",
   "metadata": {
    "execution": {
     "iopub.execute_input": "2021-08-07T03:41:27.593766Z",
     "iopub.status.busy": "2021-08-07T03:41:27.593489Z",
     "iopub.status.idle": "2021-08-07T03:41:27.608198Z",
     "shell.execute_reply": "2021-08-07T03:41:27.607043Z",
     "shell.execute_reply.started": "2021-08-07T03:41:27.593731Z"
    }
   },
   "outputs": [
    {
     "name": "stdout",
     "output_type": "stream",
     "text": [
      "ffun: 0.1268262670321706\n",
      "fgrad: [[ 0.04435772 -0.05978212  0.1         0.01055059  0.03613126  0.0153051 ]]\n",
      "fHv: [[0.0434662  0.00519552 0.02267588 0.01199346]]\n"
     ]
    }
   ],
   "source": [
    "f = LeastSquares(A, b, scale=0.09083100)\n",
    "x = np.array([0.0, 0.0, 1.1, 0.0, 2.2, 3.3]).reshape(-1, 1)\n",
    "cols = [2, 3, 4, 5]\n",
    "v = np.array([i*1.1 for i in range(len(cols))]).reshape(-1,1)\n",
    "\n",
    "# test for f\n",
    "ffun = f.evaluate_function_value(x)\n",
    "fgrad = f.gradient()\n",
    "f._prepare_hv_data(cols)\n",
    "fHv = f.hessian_vector_product_fast(v)\n",
    "print('ffun:', ffun)\n",
    "print('fgrad:',fgrad.T)\n",
    "print('fHv:',fHv.T)\n",
    "\n",
    "with open(\"ffun_scaled.txt\", 'w') as file:\n",
    "    file.write(f\"{1}\\n\")\n",
    "    file.write(f\"{ffun:+3.9e}\\n\")\n",
    "with open(\"fgrad_scaled.txt\", 'w') as file:\n",
    "    file.write(f\"{fgrad.shape[0]}\\n\")\n",
    "    for idx in range(len(fgrad)):\n",
    "        file.write(f\"{fgrad[idx,0]:+3.9e}\\n\")\n",
    "with open(\"fHv_scaled.txt\", 'w') as file:\n",
    "    file.write(f\"{fHv.shape[0]}\\n\")\n",
    "    for idx in range(len(fHv)):\n",
    "        file.write(f\"{fHv[idx,0]:+3.9e}\\n\")"
   ]
  },
  {
   "cell_type": "code",
   "execution_count": 9,
   "id": "classical-steel",
   "metadata": {
    "execution": {
     "iopub.execute_input": "2021-08-07T03:41:36.132917Z",
     "iopub.status.busy": "2021-08-07T03:41:36.132636Z",
     "iopub.status.idle": "2021-08-07T03:41:36.152218Z",
     "shell.execute_reply": "2021-08-07T03:41:36.151085Z",
     "shell.execute_reply.started": "2021-08-07T03:41:36.132882Z"
    }
   },
   "outputs": [
    {
     "name": "stdout",
     "output_type": "stream",
     "text": [
      "rfun: 0.844650772782102\n",
      "rgrad: [[0.08653959 0.         0.17307918 0.11172213]]\n",
      "rgrad: [[0.08653959 0.         0.17307918 0.11172213]]\n",
      "rHv: [[-0.06923167  0.08653959  0.03461584  0.        ]]\n",
      "trueProx: [[-0.00000000e+00  0.00000000e+00  1.06289997e+00 -2.07670848e-03\n",
      "   2.15805476e+00  3.27459455e+00]]\n"
     ]
    }
   ],
   "source": [
    "r = GL1(1.23, np.array([0, 0, 1, 1, 1, 2]), scale=0.09083100)\n",
    "rfun = r.func(x)\n",
    "rgrad = r.grad(x, [1, 2])\n",
    "r._prepare_hv_data(x, [1, 2])\n",
    "rHv = r.hessian_vector_product_fast(v, [1, 2])\n",
    "trueProx = r.proximal(x, fgrad, 0.2)\n",
    "print('rfun:', rfun)\n",
    "print('rgrad:',rgrad.T)\n",
    "print('rHv:',rHv.T)\n",
    "print('trueProx:',trueProx.T)\n",
    "\n",
    "\n",
    "with open(\"rfun_scaled.txt\", 'w') as file:\n",
    "    file.write(f\"{1}\\n\")\n",
    "    file.write(f\"{rfun:+3.9e}\\n\")\n",
    "with open(\"rgrad_scaled.txt\", 'w') as file:\n",
    "    file.write(f\"{rgrad.shape[0]}\\n\")\n",
    "    for idx in range(len(rgrad)):\n",
    "        file.write(f\"{rgrad[idx,0]:+3.9e}\\n\")\n",
    "with open(\"rHv_scaled.txt\", 'w') as file:\n",
    "    file.write(f\"{rHv.shape[0]}\\n\")\n",
    "    for idx in range(len(rHv)):\n",
    "        file.write(f\"{rHv[idx,0]:+3.9e}\\n\")\n",
    "with open(\"trueProx_scaled.txt\", 'w') as file:\n",
    "    file.write(f\"{trueProx.shape[0]}\\n\")\n",
    "    for idx in range(len(trueProx)):\n",
    "        file.write(f\"{trueProx[idx,0]:+3.9e}\\n\")                "
   ]
  },
  {
   "cell_type": "code",
   "execution_count": 11,
   "id": "protective-crack",
   "metadata": {
    "execution": {
     "iopub.execute_input": "2021-08-07T20:44:54.041256Z",
     "iopub.status.busy": "2021-08-07T20:44:54.035238Z",
     "iopub.status.idle": "2021-08-07T20:44:54.094229Z",
     "shell.execute_reply": "2021-08-07T20:44:54.089932Z",
     "shell.execute_reply.started": "2021-08-07T20:44:54.040121Z"
    }
   },
   "outputs": [
    {
     "data": {
      "text/plain": [
       "7.888609052210118e-31"
      ]
     },
     "execution_count": 11,
     "metadata": {},
     "output_type": "execute_result"
    }
   ],
   "source": [
    "0.5 ** 100"
   ]
  },
  {
   "cell_type": "code",
   "execution_count": null,
   "id": "english-poker",
   "metadata": {},
   "outputs": [],
   "source": []
  }
 ],
 "metadata": {
  "kernelspec": {
   "display_name": "Python 3",
   "language": "python",
   "name": "python3"
  },
  "language_info": {
   "codemirror_mode": {
    "name": "ipython",
    "version": 3
   },
   "file_extension": ".py",
   "mimetype": "text/x-python",
   "name": "python",
   "nbconvert_exporter": "python",
   "pygments_lexer": "ipython3",
   "version": "3.7.6"
  }
 },
 "nbformat": 4,
 "nbformat_minor": 5
}
