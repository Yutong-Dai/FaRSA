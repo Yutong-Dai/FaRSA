{
 "cells": [
  {
   "cell_type": "code",
   "execution_count": 1,
   "id": "afraid-montana",
   "metadata": {
    "execution": {
     "iopub.execute_input": "2021-08-10T01:30:27.888099Z",
     "iopub.status.busy": "2021-08-10T01:30:27.887643Z",
     "iopub.status.idle": "2021-08-10T01:30:29.549410Z",
     "shell.execute_reply": "2021-08-10T01:30:29.548439Z",
     "shell.execute_reply.started": "2021-08-10T01:30:27.887988Z"
    }
   },
   "outputs": [],
   "source": [
    "import sys\n",
    "sys.path.append('../')\n",
    "from src.proxGradNZZ import PGSOLVER\n",
    "from src.problemNZZ import Problem\n",
    "from src.lossfunction import LogisticLoss, LeastSquares\n",
    "from src.regularizer import GL1\n",
    "from src.params import *\n",
    "import src.utils as utils\n",
    "import numpy as np"
   ]
  },
  {
   "cell_type": "code",
   "execution_count": 2,
   "id": "desperate-blues",
   "metadata": {
    "execution": {
     "iopub.execute_input": "2021-08-10T01:30:30.149876Z",
     "iopub.status.busy": "2021-08-10T01:30:30.149553Z",
     "iopub.status.idle": "2021-08-10T01:30:30.154863Z",
     "shell.execute_reply": "2021-08-10T01:30:30.154059Z",
     "shell.execute_reply.started": "2021-08-10T01:30:30.149837Z"
    }
   },
   "outputs": [],
   "source": [
    "np.random.seed(417)\n",
    "m, n = 10, 6\n",
    "A = np.random.randn(m, n)\n",
    "b = np.random.rand(m, 1)"
   ]
  },
  {
   "cell_type": "code",
   "execution_count": 11,
   "id": "royal-harassment",
   "metadata": {
    "execution": {
     "iopub.execute_input": "2021-08-10T01:57:13.354402Z",
     "iopub.status.busy": "2021-08-10T01:57:13.354023Z",
     "iopub.status.idle": "2021-08-10T01:57:14.104930Z",
     "shell.execute_reply": "2021-08-10T01:57:14.102328Z",
     "shell.execute_reply.started": "2021-08-10T01:57:13.354360Z"
    }
   },
   "outputs": [
    {
     "name": "stdout",
     "output_type": "stream",
     "text": [
      "Solver:ISTA | Version:0.1 (2020-12-19)\n",
      " tol:1e-06 | maxtime:1000 | maxiter:100000\n",
      " beta:1.100e+00 | zeta:8.000e-01 | eta:1.000e-03\n",
      " stepsizeRule:bkt | stepsizeStrategy:frac\n",
      " proxStepsize is [1.000e+00]\n"
     ]
    },
    {
     "name": "stderr",
     "output_type": "stream",
     "text": [
      "../src/proxGradNZZ.py:74: RuntimeWarning: invalid value encountered in double_scalars\n",
      "  optim = optim / X_trial_norm\n",
      "../src/lossfunction.py:161: RuntimeWarning: overflow encountered in multiply\n",
      "  f = 0.5 * np.sum(self.matvec * self.matvec) / self.n\n",
      "../src/regularizer.py:77: RuntimeWarning: overflow encountered in square\n",
      "  return np.sum(np.sqrt(self.mat@(X ** 2)))\n",
      "../src/lossfunction.py:160: RuntimeWarning: invalid value encountered in matmul\n",
      "  self.matvec = self.X@weight - self.y\n",
      "../src/proxGradNZZ.py:41: RuntimeWarning: invalid value encountered in double_scalars\n",
      "  RHS = dirder + 0.5 * (1 / alpha) * d_sq\n",
      "../src/lossfunction.py:160: RuntimeWarning: overflow encountered in matmul\n",
      "  self.matvec = self.X@weight - self.y\n",
      "../src/proxGradNZZ.py:40: RuntimeWarning: invalid value encountered in double_scalars\n",
      "  LHS = fval_trial - fvalX\n"
     ]
    },
    {
     "ename": "ValueError",
     "evalue": "not enough values to unpack (expected 6, got 4)",
     "output_type": "error",
     "traceback": [
      "\u001b[0;31m---------------------------------------------------------------------------\u001b[0m",
      "\u001b[0;31mValueError\u001b[0m                                Traceback (most recent call last)",
      "\u001b[0;32m<ipython-input-11-e3d42c32439b>\u001b[0m in \u001b[0;36m<module>\u001b[0;34m\u001b[0m\n\u001b[1;32m     13\u001b[0m \u001b[0mista\u001b[0m \u001b[0;34m=\u001b[0m \u001b[0mPGSOLVER\u001b[0m\u001b[0;34m(\u001b[0m\u001b[0mproblem\u001b[0m\u001b[0;34m,\u001b[0m \u001b[0;34m\"ISTA\"\u001b[0m\u001b[0;34m)\u001b[0m\u001b[0;34m\u001b[0m\u001b[0;34m\u001b[0m\u001b[0m\n\u001b[1;32m     14\u001b[0m result = ista.solve(X_initial=None, alpha=1.0,\n\u001b[0;32m---> 15\u001b[0;31m                      tc='ITERATES', tol=1e-6, log=True, options=options)\n\u001b[0m\u001b[1;32m     16\u001b[0m print(\"fevals:{} | gevals:{} | baks:{}\".format(\n\u001b[1;32m     17\u001b[0m     result['fevals'], result['gevals'], result['baks']))\n",
      "\u001b[0;32m~/Documents/Optimization_Software/FaRSA/FaRSA/ftests/data/python_impl/ProximalMethod/src/proxGradNZZ.py\u001b[0m in \u001b[0;36msolve\u001b[0;34m(self, X_initial, alpha, tc, tol, log, options)\u001b[0m\n\u001b[1;32m    162\u001b[0m                 \u001b[0;32mif\u001b[0m \u001b[0mself\u001b[0m\u001b[0;34m.\u001b[0m\u001b[0mmethod\u001b[0m \u001b[0;34m==\u001b[0m \u001b[0;34m\"ISTA\"\u001b[0m\u001b[0;34m:\u001b[0m\u001b[0;34m\u001b[0m\u001b[0;34m\u001b[0m\u001b[0m\n\u001b[1;32m    163\u001b[0m                     Xtrial, fvalXtrial, alpha, bak, zeroGroup, nonZeroGroup = self.update_backtracking_stepsize(X, gradfX, fvalX,\n\u001b[0;32m--> 164\u001b[0;31m                                                                                                                 alpha, zeta, maxbak, stepsizeStrategy)\n\u001b[0m\u001b[1;32m    165\u001b[0m                 \u001b[0;32melif\u001b[0m \u001b[0mself\u001b[0m\u001b[0;34m.\u001b[0m\u001b[0mmethod\u001b[0m \u001b[0;34m==\u001b[0m \u001b[0;34m\"FISTA\"\u001b[0m\u001b[0;34m:\u001b[0m\u001b[0;34m\u001b[0m\u001b[0;34m\u001b[0m\u001b[0m\n\u001b[1;32m    166\u001b[0m                     Xtrial, fvalXtrial, alpha, bak, zeroGroup, nonZeroGroup = self.update_backtracking_stepsize(y, gradfy, fvaly,\n",
      "\u001b[0;31mValueError\u001b[0m: not enough values to unpack (expected 6, got 4)"
     ]
    }
   ],
   "source": [
    "np.random.seed(417)\n",
    "m, n = 10, 6\n",
    "A = np.random.randn(m, n)\n",
    "b = np.random.rand(m, 1)\n",
    "f = LeastSquares(A, b, 'randn106')\n",
    "p = A.shape[1]\n",
    "group = np.array([1,1,2,2,2,3])\n",
    "Lambda = 1.23\n",
    "r = GL1(Lambda=Lambda, group=group)\n",
    "problem = Problem(f, r)\n",
    "options = params\n",
    "options[\"beta\"] = 1.1\n",
    "ista = PGSOLVER(problem, \"ISTA\")\n",
    "result = ista.solve(X_initial=None, alpha=1.0,\n",
    "                     tc='ITERATES', tol=1e-6, log=True, options=options)\n",
    "print(\"fevals:{} | gevals:{} | baks:{}\".format(\n",
    "    result['fevals'], result['gevals'], result['baks']))"
   ]
  },
  {
   "cell_type": "code",
   "execution_count": 9,
   "id": "north-cooler",
   "metadata": {
    "execution": {
     "iopub.execute_input": "2021-08-10T01:51:11.825439Z",
     "iopub.status.busy": "2021-08-10T01:51:11.825137Z",
     "iopub.status.idle": "2021-08-10T01:51:11.856667Z",
     "shell.execute_reply": "2021-08-10T01:51:11.855173Z",
     "shell.execute_reply.started": "2021-08-10T01:51:11.825401Z"
    }
   },
   "outputs": [
    {
     "data": {
      "text/plain": [
       "array([1.73948268, 2.13042249, 1.23      ])"
      ]
     },
     "execution_count": 9,
     "metadata": {},
     "output_type": "execute_result"
    }
   ],
   "source": [
    "r.Lambda_group"
   ]
  },
  {
   "cell_type": "code",
   "execution_count": null,
   "id": "marked-naples",
   "metadata": {},
   "outputs": [],
   "source": []
  }
 ],
 "metadata": {
  "kernelspec": {
   "display_name": "Python 3",
   "language": "python",
   "name": "python3"
  },
  "language_info": {
   "codemirror_mode": {
    "name": "ipython",
    "version": 3
   },
   "file_extension": ".py",
   "mimetype": "text/x-python",
   "name": "python",
   "nbconvert_exporter": "python",
   "pygments_lexer": "ipython3",
   "version": "3.7.6"
  }
 },
 "nbformat": 4,
 "nbformat_minor": 5
}
